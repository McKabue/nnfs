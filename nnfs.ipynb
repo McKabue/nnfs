{
 "cells": [
  {
   "cell_type": "code",
   "execution_count": 1,
   "metadata": {},
   "outputs": [],
   "source": [
    "import numpy as np\n",
    "import matplotlib.pyplot as plt"
   ]
  },
  {
   "cell_type": "code",
   "execution_count": 2,
   "metadata": {},
   "outputs": [
    {
     "data": {
      "text/plain": [
       "4.8"
      ]
     },
     "execution_count": 2,
     "metadata": {},
     "output_type": "execute_result"
    }
   ],
   "source": [
    "inputs = [1, 2, 3, 2.5]\n",
    "weights = [0.2, 0.8, -0.5, 1.0] \n",
    "bias = 2\n",
    "\n",
    "output = inputs[0] * weights[0] + inputs[1] * weights[1] + inputs[2] * weights[2] + inputs[3] * weights[3] + bias\n",
    "output"
   ]
  },
  {
   "cell_type": "code",
   "execution_count": 3,
   "metadata": {},
   "outputs": [
    {
     "data": {
      "text/plain": [
       "array([4.8  , 1.21 , 2.385])"
      ]
     },
     "execution_count": 3,
     "metadata": {},
     "output_type": "execute_result"
    }
   ],
   "source": [
    "weights = [\n",
    "    [0.2, 0.8, -0.5, 1.0],\n",
    "    [0.5, -0.91, 0.26, -0.5],\n",
    "    [-0.26, -0.27, 0.17, 0.87]\n",
    "]\n",
    "\n",
    "biases = [2, 3, 0.5]\n",
    "\n",
    "np.dot(weights, inputs) + biases\n"
   ]
  },
  {
   "cell_type": "code",
   "execution_count": 4,
   "metadata": {},
   "outputs": [
    {
     "data": {
      "text/plain": [
       "array([3, 8])"
      ]
     },
     "execution_count": 4,
     "metadata": {},
     "output_type": "execute_result"
    }
   ],
   "source": [
    "np.array([1, 2]) * [3, 4]"
   ]
  },
  {
   "cell_type": "code",
   "execution_count": 5,
   "metadata": {},
   "outputs": [
    {
     "data": {
      "text/plain": [
       "array([[ 4.8  ,  1.21 ,  2.385],\n",
       "       [ 8.9  , -1.81 ,  0.2  ],\n",
       "       [ 1.41 ,  1.051,  0.026]])"
      ]
     },
     "execution_count": 5,
     "metadata": {},
     "output_type": "execute_result"
    }
   ],
   "source": [
    "inputs = [\n",
    "    [1, 2, 3, 2.5],\n",
    "    [2.0, 5.0, -1.0, 2.0],\n",
    "    [-1.5, 2.7, 3.3, -0.8]\n",
    "]\n",
    "\n",
    "np.dot(inputs, np.array(weights).T) + biases"
   ]
  },
  {
   "cell_type": "code",
   "execution_count": 6,
   "metadata": {},
   "outputs": [
    {
     "data": {
      "text/plain": [
       "array([[ 0.5031 , -1.04185, -2.03875],\n",
       "       [ 0.2434 , -2.7332 , -5.7633 ],\n",
       "       [-0.99314,  1.41254, -0.35655]])"
      ]
     },
     "execution_count": 6,
     "metadata": {},
     "output_type": "execute_result"
    }
   ],
   "source": [
    "weights2 = [\n",
    "    [0.1, -0.14, 0.5],\n",
    "    [-0.5, 0.12, -0.33],\n",
    "    [-0.44, 0.73, -0.13]\n",
    "]\n",
    "\n",
    "biases2 = [-1, 2, -0.5]\n",
    "\n",
    "layer1_outputs = np.dot(inputs, np.array(weights).T) + biases\n",
    "layer2_outputs = np.dot(layer1_outputs, np.array(weights2).T) + biases2\n",
    "layer2_outputs"
   ]
  },
  {
   "cell_type": "code",
   "execution_count": 28,
   "metadata": {},
   "outputs": [
    {
     "ename": "AttributeError",
     "evalue": "'list' object has no attribute 'astype'",
     "output_type": "error",
     "traceback": [
      "\u001b[0;31m---------------------------------------------------------------------------\u001b[0m",
      "\u001b[0;31mAttributeError\u001b[0m                            Traceback (most recent call last)",
      "Cell \u001b[0;32mIn[28], line 18\u001b[0m\n\u001b[1;32m     13\u001b[0m         \u001b[39mself\u001b[39m\u001b[39m.\u001b[39moutput \u001b[39m=\u001b[39m np\u001b[39m.\u001b[39mdot(inputs, \u001b[39mself\u001b[39m\u001b[39m.\u001b[39mweights) \u001b[39m+\u001b[39m \u001b[39mself\u001b[39m\u001b[39m.\u001b[39mbiases\n\u001b[1;32m     15\u001b[0m layer1 \u001b[39m=\u001b[39m Layer_Dense(\n\u001b[1;32m     16\u001b[0m     \u001b[39mlen\u001b[39m(X[\u001b[39m0\u001b[39m]), \u001b[39m# 4\u001b[39;00m\n\u001b[1;32m     17\u001b[0m     \u001b[39m7\u001b[39m)\n\u001b[0;32m---> 18\u001b[0m layer1\u001b[39m.\u001b[39;49mforward(X)\n\u001b[1;32m     19\u001b[0m layer1\u001b[39m.\u001b[39moutput\n\u001b[1;32m     22\u001b[0m layer2 \u001b[39m=\u001b[39m Layer_Dense(\n\u001b[1;32m     23\u001b[0m     \u001b[39m7\u001b[39m,\n\u001b[1;32m     24\u001b[0m     \u001b[39m2\u001b[39m)\n",
      "Cell \u001b[0;32mIn[28], line 13\u001b[0m, in \u001b[0;36mLayer_Dense.forward\u001b[0;34m(self, inputs)\u001b[0m\n\u001b[1;32m     12\u001b[0m \u001b[39mdef\u001b[39;00m \u001b[39mforward\u001b[39m(\u001b[39mself\u001b[39m, inputs):\n\u001b[0;32m---> 13\u001b[0m     \u001b[39mself\u001b[39m\u001b[39m.\u001b[39moutput \u001b[39m=\u001b[39m np\u001b[39m.\u001b[39;49mdot(inputs, \u001b[39mself\u001b[39;49m\u001b[39m.\u001b[39;49mweights) \u001b[39m+\u001b[39m \u001b[39mself\u001b[39m\u001b[39m.\u001b[39mbiases\n",
      "File \u001b[0;32m/usr/local/lib/python3.11/site-packages/nnfs/core.py:22\u001b[0m, in \u001b[0;36minit.<locals>.dot\u001b[0;34m(*args, **kwargs)\u001b[0m\n\u001b[1;32m     21\u001b[0m \u001b[39mdef\u001b[39;00m \u001b[39mdot\u001b[39m(\u001b[39m*\u001b[39margs, \u001b[39m*\u001b[39m\u001b[39m*\u001b[39mkwargs):\n\u001b[0;32m---> 22\u001b[0m     \u001b[39mreturn\u001b[39;00m orig_dot(\u001b[39m*\u001b[39m[a\u001b[39m.\u001b[39;49mastype(\u001b[39m'\u001b[39;49m\u001b[39mfloat64\u001b[39;49m\u001b[39m'\u001b[39;49m) \u001b[39mfor\u001b[39;49;00m a \u001b[39min\u001b[39;49;00m args], \u001b[39m*\u001b[39m\u001b[39m*\u001b[39mkwargs)\u001b[39m.\u001b[39mastype(\u001b[39m'\u001b[39m\u001b[39mfloat32\u001b[39m\u001b[39m'\u001b[39m)\n",
      "File \u001b[0;32m/usr/local/lib/python3.11/site-packages/nnfs/core.py:22\u001b[0m, in \u001b[0;36m<listcomp>\u001b[0;34m(.0)\u001b[0m\n\u001b[1;32m     21\u001b[0m \u001b[39mdef\u001b[39;00m \u001b[39mdot\u001b[39m(\u001b[39m*\u001b[39margs, \u001b[39m*\u001b[39m\u001b[39m*\u001b[39mkwargs):\n\u001b[0;32m---> 22\u001b[0m     \u001b[39mreturn\u001b[39;00m orig_dot(\u001b[39m*\u001b[39m[a\u001b[39m.\u001b[39;49mastype(\u001b[39m'\u001b[39m\u001b[39mfloat64\u001b[39m\u001b[39m'\u001b[39m) \u001b[39mfor\u001b[39;00m a \u001b[39min\u001b[39;00m args], \u001b[39m*\u001b[39m\u001b[39m*\u001b[39mkwargs)\u001b[39m.\u001b[39mastype(\u001b[39m'\u001b[39m\u001b[39mfloat32\u001b[39m\u001b[39m'\u001b[39m)\n",
      "\u001b[0;31mAttributeError\u001b[0m: 'list' object has no attribute 'astype'"
     ]
    }
   ],
   "source": [
    "np.random.seed(0)\n",
    "X = [\n",
    "    [1, 2, 3, 2.5],\n",
    "    [2.0, 5.0, -1.0, 2.0],\n",
    "    [-1.5, 2.7, 3.3, -0.8]\n",
    "]\n",
    "\n",
    "class Layer_Dense:\n",
    "    def  __init__(self, n_inputs, n_neurons) -> None:\n",
    "        self.weights = 0.01 * np.random.randn(n_inputs, n_neurons)\n",
    "        self.biases = np.zeros((1, n_neurons))\n",
    "    def forward(self, inputs):\n",
    "        self.output = np.dot(inputs, self.weights) + self.biases\n",
    "\n",
    "layer1 = Layer_Dense(\n",
    "    len(X[0]), # 4\n",
    "    7)\n",
    "layer1.forward(X)\n",
    "layer1.output\n",
    "\n",
    "\n",
    "layer2 = Layer_Dense(\n",
    "    7,\n",
    "    2)\n",
    "layer2.forward(layer1.output)\n",
    "layer2.output"
   ]
  },
  {
   "cell_type": "code",
   "execution_count": 8,
   "metadata": {},
   "outputs": [
    {
     "data": {
      "text/plain": [
       "array([[0.],\n",
       "       [0.],\n",
       "       [0.]])"
      ]
     },
     "execution_count": 8,
     "metadata": {},
     "output_type": "execute_result"
    }
   ],
   "source": [
    "np.zeros((3,1))"
   ]
  },
  {
   "attachments": {},
   "cell_type": "markdown",
   "metadata": {},
   "source": [
    "## Hidden Layer Activation\n",
    "\n",
    " - [How to turn integers into Fibonacci coding efficiently?](https://stackoverflow.com/q/37479718/3563013)\n",
    " - [The Magic of ReLU - `max(0, x)`](https://youtu.be/gmjzbpSVY1A?t=484)"
   ]
  },
  {
   "cell_type": "code",
   "execution_count": 9,
   "metadata": {},
   "outputs": [],
   "source": [
    "# %pip install nnfs"
   ]
  },
  {
   "cell_type": "code",
   "execution_count": 10,
   "metadata": {},
   "outputs": [
    {
     "data": {
      "text/plain": [
       "<matplotlib.collections.PathCollection at 0x117ef03d0>"
      ]
     },
     "execution_count": 10,
     "metadata": {},
     "output_type": "execute_result"
    },
    {
     "data": {
      "image/png": "[encoded data removed]",
      "text/plain": [
       "<Figure size 640x480 with 1 Axes>"
      ]
     },
     "metadata": {},
     "output_type": "display_data"
    }
   ],
   "source": [
    "# https://gist.github.com/Sentdex/454cb20ec5acf0e76ee8ab8448e6266c\n",
    "# https://cs231n.github.io/neural-networks-case-study/\n",
    "from nnfs.datasets import spiral_data\n",
    "\n",
    "X, y = spiral_data(100, 3)\n",
    "plt.scatter(X[:,0], X[:,1], c=y, cmap=\"brg\")"
   ]
  },
  {
   "cell_type": "code",
   "execution_count": 11,
   "metadata": {},
   "outputs": [
    {
     "data": {
      "text/plain": [
       "array([[-0.        ,  0.        ],\n",
       "       [ 0.00889146,  0.00479295],\n",
       "       [-0.00106629,  0.02017386],\n",
       "       [ 0.00254226,  0.0301962 ],\n",
       "       [-0.00891028,  0.03940931],\n",
       "       [ 0.03936642,  0.03163929],\n",
       "       [-0.01209333,  0.05938726],\n",
       "       [ 0.03996509,  0.05832908],\n",
       "       [ 0.02849289,  0.07561813],\n",
       "       [ 0.08112342,  0.04102992],\n",
       "       [ 0.06919889,  0.07358365],\n",
       "       [ 0.05528555,  0.09638043],\n",
       "       [ 0.11288769,  0.04414462],\n",
       "       [ 0.13118892,  0.0057102 ],\n",
       "       [ 0.14033888,  0.01740573],\n",
       "       [ 0.15082343, -0.01446146],\n",
       "       [ 0.15568329,  0.04338775],\n",
       "       [ 0.17161203,  0.00600805],\n",
       "       [ 0.18110107,  0.01613235],\n",
       "       [ 0.18919729, -0.03220809],\n",
       "       [ 0.20183491, -0.0086504 ],\n",
       "       [ 0.20183304,  0.06525975],\n",
       "       [ 0.1640833 , -0.14986456],\n",
       "       [ 0.19787334, -0.12173835],\n",
       "       [ 0.24224602, -0.00929395],\n",
       "       [ 0.09482623, -0.23404484],\n",
       "       [ 0.21648499, -0.14868357],\n",
       "       [ 0.1032707 , -0.25241895],\n",
       "       [-0.0144845 , -0.28245714],\n",
       "       [ 0.04313989, -0.28973526],\n",
       "       [-0.13409802, -0.27174452],\n",
       "       [ 0.18389532, -0.25344374],\n",
       "       [-0.09301777, -0.30955909],\n",
       "       [ 0.05003167, -0.32955719],\n",
       "       [ 0.04882418, -0.3399461 ],\n",
       "       [-0.03681959, -0.3516128 ],\n",
       "       [-0.12092334, -0.34294161],\n",
       "       [-0.2183282 , -0.3033355 ],\n",
       "       [-0.04374533, -0.38133745],\n",
       "       [-0.37362004, -0.12488519],\n",
       "       [-0.36570174, -0.17178733],\n",
       "       [-0.09510015, -0.40307452],\n",
       "       [-0.40839807,  0.11485927],\n",
       "       [-0.3635523 ,  0.23766351],\n",
       "       [-0.42167991,  0.14041694],\n",
       "       [-0.43962867, -0.11549112],\n",
       "       [-0.38314772, -0.26285769],\n",
       "       [-0.4016482 ,  0.25310844],\n",
       "       [-0.48380903, -0.0317313 ],\n",
       "       [-0.32727941,  0.37129933],\n",
       "       [-0.45645934,  0.21615015],\n",
       "       [-0.30902889,  0.41216772],\n",
       "       [-0.39546934,  0.34567935],\n",
       "       [-0.29175612,  0.44886721],\n",
       "       [-0.40006595,  0.37076663],\n",
       "       [ 0.09141871,  0.54798229],\n",
       "       [-0.30198363,  0.47830245],\n",
       "       [-0.1836343 ,  0.54568785],\n",
       "       [ 0.28956266,  0.50929731],\n",
       "       [-0.50066609,  0.32326662],\n",
       "       [-0.45843612,  0.39641618],\n",
       "       [ 0.2188613 ,  0.57598166],\n",
       "       [-0.35728603,  0.51434577],\n",
       "       [ 0.55271131,  0.31538689],\n",
       "       [-0.01638505,  0.64625697],\n",
       "       [-0.05983253,  0.65383372],\n",
       "       [ 0.64973698,  0.14928598],\n",
       "       [ 0.63664935,  0.22954758],\n",
       "       [ 0.68595747,  0.03536859],\n",
       "       [ 0.63315431,  0.2913458 ],\n",
       "       [ 0.2470361 ,  0.662512  ],\n",
       "       [ 0.69065708, -0.19320473],\n",
       "       [ 0.54903662,  0.47695326],\n",
       "       [ 0.73507302,  0.05820376],\n",
       "       [ 0.74414729, -0.07045078],\n",
       "       [ 0.71014607,  0.26384388],\n",
       "       [ 0.76121636, -0.09938446],\n",
       "       [ 0.72087258, -0.29202909],\n",
       "       [ 0.77007046, -0.16656674],\n",
       "       [ 0.72735723,  0.32821216],\n",
       "       [ 0.75164516, -0.29668864],\n",
       "       [ 0.44822363, -0.68448306],\n",
       "       [ 0.82552929, -0.06748212],\n",
       "       [ 0.75307298, -0.36846783],\n",
       "       [ 0.77704616, -0.34077236],\n",
       "       [-0.07350146, -0.85543393],\n",
       "       [ 0.33969179, -0.79951633],\n",
       "       [ 0.36886993, -0.79762341],\n",
       "       [ 0.70765736, -0.53790754],\n",
       "       [ 0.14788676, -0.88674255],\n",
       "       [ 0.56527006, -0.71198036],\n",
       "       [ 0.19785217, -0.89764598],\n",
       "       [ 0.40401935, -0.83687138],\n",
       "       [-0.28422364, -0.89536467],\n",
       "       [-0.33311989, -0.88914104],\n",
       "       [-0.06427572, -0.95744088],\n",
       "       [-0.43933112, -0.86446537],\n",
       "       [ 0.16897825, -0.9651168 ],\n",
       "       [ 0.26538865, -0.95366078],\n",
       "       [-0.7138061 , -0.70034338],\n",
       "       [-0.        , -0.        ],\n",
       "       [-0.00846542, -0.00551063],\n",
       "       [-0.01862285,  0.00783015],\n",
       "       [-0.02957064, -0.00662202],\n",
       "       [-0.02017586, -0.03500602],\n",
       "       [-0.05038838,  0.00343091],\n",
       "       [-0.03028887, -0.05249456],\n",
       "       [-0.06138567, -0.03508973],\n",
       "       [-0.07883183, -0.017762  ],\n",
       "       [-0.06525271,  0.06329729],\n",
       "       [-0.09461129, -0.03537999],\n",
       "       [-0.10622431, -0.03258949],\n",
       "       [-0.11951934,  0.02018679],\n",
       "       [-0.13129993, -0.00186224],\n",
       "       [-0.07854933,  0.11759235],\n",
       "       [-0.15148366, -0.00308896],\n",
       "       [-0.1614388 ,  0.00756943],\n",
       "       [-0.15047421,  0.08273028],\n",
       "       [-0.15271956,  0.09866402],\n",
       "       [ 0.05993165,  0.18232162],\n",
       "       [-0.01442372,  0.20150464],\n",
       "       [-0.08287399,  0.19526216],\n",
       "       [-0.18164227,  0.12801875],\n",
       "       [ 0.04137401,  0.22860944],\n",
       "       [-0.14520905,  0.19412327],\n",
       "       [-0.18350972,  0.17347388],\n",
       "       [ 0.15975346,  0.20844996],\n",
       "       [ 0.08562865,  0.25893609],\n",
       "       [ 0.18699003,  0.21219464],\n",
       "       [ 0.14613153,  0.25387625],\n",
       "       [ 0.23592342,  0.19017756],\n",
       "       [ 0.07425867,  0.30419873],\n",
       "       [ 0.04792965,  0.31965901],\n",
       "       [ 0.29823346,  0.14888893],\n",
       "       [ 0.1543929 ,  0.3067735 ],\n",
       "       [ 0.20662545,  0.28686786],\n",
       "       [ 0.27131911,  0.24211019],\n",
       "       [ 0.34552318,  0.14245475],\n",
       "       [ 0.34120764,  0.17581027],\n",
       "       [ 0.24940187,  0.30493762],\n",
       "       [ 0.3691597 ,  0.16422474],\n",
       "       [ 0.18509644,  0.37047594],\n",
       "       [ 0.38773813, -0.17216496],\n",
       "       [ 0.35975893,  0.24336748],\n",
       "       [ 0.4311814 ,  0.1077658 ],\n",
       "       [ 0.41233422, -0.19129051],\n",
       "       [ 0.46013168, -0.06461561],\n",
       "       [ 0.08918528, -0.46629513],\n",
       "       [ 0.48382808, -0.03143948],\n",
       "       [ 0.28957067, -0.40140233],\n",
       "       [ 0.31643188, -0.39363292],\n",
       "       [ 0.46819032, -0.21489278],\n",
       "       [ 0.10115777, -0.51541956],\n",
       "       [ 0.22812559, -0.48431614],\n",
       "       [-0.07204925, -0.5406751 ],\n",
       "       [-0.1424705 , -0.53697685],\n",
       "       [-0.48500096, -0.29110379],\n",
       "       [-0.37872568, -0.43366306],\n",
       "       [ 0.01989681, -0.58552062],\n",
       "       [-0.0784048 , -0.59077959],\n",
       "       [-0.47567364, -0.37555832],\n",
       "       [-0.4338962 , -0.43748054],\n",
       "       [-0.48057491, -0.40156274],\n",
       "       [ 0.09686153, -0.62894874],\n",
       "       [-0.43805672, -0.4754186 ],\n",
       "       [-0.30823059, -0.57971749],\n",
       "       [-0.59373422, -0.3031899 ],\n",
       "       [-0.57333806, -0.35958025],\n",
       "       [-0.68617283,  0.03091014],\n",
       "       [-0.68909617, -0.10446638],\n",
       "       [-0.69499093,  0.13014067],\n",
       "       [-0.6760567 , -0.23933787],\n",
       "       [-0.64567212, -0.3347135 ],\n",
       "       [-0.73291331, -0.08098213],\n",
       "       [-0.7343771 ,  0.13931536],\n",
       "       [-0.6696516 ,  0.35424252],\n",
       "       [-0.03310253,  0.76696274],\n",
       "       [-0.69064138,  0.35770485],\n",
       "       [-0.78201731,  0.09592657],\n",
       "       [-0.68928895,  0.40206032],\n",
       "       [-0.68021476,  0.43623671],\n",
       "       [-0.33884125,  0.74472015],\n",
       "       [-0.80577269,  0.19178848],\n",
       "       [-0.35260901,  0.7606276 ],\n",
       "       [-0.23974165,  0.81391061],\n",
       "       [-0.12627342,  0.84924949],\n",
       "       [-0.38669868,  0.77786953],\n",
       "       [-0.15788059,  0.86448936],\n",
       "       [-0.55386495,  0.69523886],\n",
       "       [-0.09539784,  0.89391392],\n",
       "       [-0.02733912,  0.90867973],\n",
       "       [ 0.48075412,  0.78344704],\n",
       "       [-0.124814  ,  0.92087285],\n",
       "       [ 0.75582575,  0.55784264],\n",
       "       [ 0.93446573,  0.16826899],\n",
       "       [-0.27310073,  0.91991326],\n",
       "       [ 0.84617782,  0.47359825],\n",
       "       [ 0.94057195,  0.27446037],\n",
       "       [ 0.66066117,  0.7371749 ],\n",
       "       [ 0.81446596,  0.58021134],\n",
       "       [ 0.        ,  0.        ],\n",
       "       [ 0.00901379,  0.00455873],\n",
       "       [ 0.01881408,  0.0073588 ],\n",
       "       [ 0.01749528,  0.02474245],\n",
       "       [ 0.03423566, -0.02145707],\n",
       "       [ 0.04097228, -0.02953019],\n",
       "       [ 0.05913239,  0.01328363],\n",
       "       [ 0.06377542,  0.03053171],\n",
       "       [ 0.06441495, -0.04879201],\n",
       "       [ 0.08908167, -0.0181361 ],\n",
       "       [ 0.07975225, -0.06198886],\n",
       "       [ 0.09580591, -0.05627528],\n",
       "       [ 0.05088848, -0.11001246],\n",
       "       [ 0.04263094, -0.12420041],\n",
       "       [ 0.11418394, -0.08342654],\n",
       "       [ 0.13937009, -0.05943752],\n",
       "       [ 0.14858379, -0.06358177],\n",
       "       [-0.00535891, -0.17163353],\n",
       "       [ 0.12622977, -0.13085831],\n",
       "       [ 0.06134783, -0.18184999],\n",
       "       [ 0.05371058, -0.19474942],\n",
       "       [-0.02197442, -0.21097994],\n",
       "       [ 0.14935967, -0.16454301],\n",
       "       [-0.09610337, -0.21151413],\n",
       "       [-0.15525228, -0.18618873],\n",
       "       [-0.13803377, -0.21146083],\n",
       "       [-0.12119868, -0.23298805],\n",
       "       [-0.19273659, -0.19295795],\n",
       "       [-0.24343238, -0.1439879 ],\n",
       "       [ 0.12692649, -0.26400234],\n",
       "       [-0.27334671,  0.13080115],\n",
       "       [-0.30448198, -0.0730886 ],\n",
       "       [-0.25617601, -0.19711162],\n",
       "       [-0.30380476, -0.13716333],\n",
       "       [-0.34099453,  0.04086417],\n",
       "       [-0.35226966, -0.02988869],\n",
       "       [-0.21419709, -0.29385543],\n",
       "       [-0.13274909,  0.34936701],\n",
       "       [-0.37448876,  0.08420259],\n",
       "       [-0.2487039 ,  0.30550714],\n",
       "       [-0.40050238,  0.0533525 ],\n",
       "       [-0.09164596,  0.4038739 ],\n",
       "       [-0.28829272,  0.31123776],\n",
       "       [-0.20245034,  0.38427605],\n",
       "       [-0.41597405,  0.15651344],\n",
       "       [ 0.00831134,  0.45446946],\n",
       "       [-0.06546734,  0.46001127],\n",
       "       [ 0.12464159,  0.45809348],\n",
       "       [-0.27308544,  0.4006275 ],\n",
       "       [-0.20351859,  0.4511709 ],\n",
       "       [ 0.44296317,  0.24261006],\n",
       "       [-0.25203985,  0.44928498],\n",
       "       [ 0.02720073,  0.52454774],\n",
       "       [ 0.38000358,  0.37709506],\n",
       "       [ 0.19758379,  0.50841057],\n",
       "       [ 0.36393445,  0.41975432],\n",
       "       [ 0.18013655,  0.53620721],\n",
       "       [ 0.41695923,  0.39704129],\n",
       "       [ 0.042485  ,  0.5843161 ],\n",
       "       [ 0.59380172, -0.05066907],\n",
       "       [ 0.46275363,  0.39136752],\n",
       "       [ 0.3916325 ,  0.47568805],\n",
       "       [ 0.62263271,  0.06733047],\n",
       "       [ 0.53566549,  0.34354208],\n",
       "       [ 0.39879295,  0.50880322],\n",
       "       [ 0.45211109,  0.47610295],\n",
       "       [ 0.63488586, -0.20338238],\n",
       "       [ 0.67668483,  0.01058929],\n",
       "       [ 0.68355289, -0.0674095 ],\n",
       "       [ 0.48306179, -0.50241224],\n",
       "       [ 0.69349918,  0.13786904],\n",
       "       [ 0.71338258, -0.07362453],\n",
       "       [ 0.67626567, -0.26756377],\n",
       "       [ 0.5556359 , -0.48475641],\n",
       "       [ 0.54685567, -0.50957568],\n",
       "       [ 0.5651438 , -0.50451315],\n",
       "       [ 0.45126689, -0.62103608],\n",
       "       [ 0.40667291, -0.66298975],\n",
       "       [ 0.54012417, -0.57360167],\n",
       "       [ 0.51470253, -0.60979756],\n",
       "       [ 0.0454448 , -0.80680194],\n",
       "       [ 0.41923356, -0.70261278],\n",
       "       [ 0.44709572, -0.69725021],\n",
       "       [ 0.03908941, -0.83747208],\n",
       "       [-0.1114068 , -0.84113915],\n",
       "       [-0.8512394 , -0.11207661],\n",
       "       [-0.05225007, -0.86711407],\n",
       "       [-0.73235456, -0.48572105],\n",
       "       [-0.74223024, -0.4890989 ],\n",
       "       [-0.1085952 , -0.89240681],\n",
       "       [-0.84835861, -0.32670163],\n",
       "       [-0.29406783, -0.8708834 ],\n",
       "       [ 0.28436547, -0.88471556],\n",
       "       [-0.92912016, -0.13855216],\n",
       "       [-0.31903349, -0.89429206],\n",
       "       [-0.9593264 , -0.02274354],\n",
       "       [-0.85551975, -0.45650649],\n",
       "       [-0.69474045,  0.69089782],\n",
       "       [-0.82358436,  0.54918923],\n",
       "       [-0.99742183, -0.07176138]])"
      ]
     },
     "execution_count": 11,
     "metadata": {},
     "output_type": "execute_result"
    }
   ],
   "source": [
    "X"
   ]
  },
  {
   "cell_type": "code",
   "execution_count": 12,
   "metadata": {},
   "outputs": [
    {
     "name": "stdout",
     "output_type": "stream",
     "text": [
      "[[ 0.          0.          0.          0.          0.        ]\n",
      " [ 0.00110009  0.00081117  0.0007977   0.00194301  0.00185733]\n",
      " [-0.00215965  0.00187403 -0.00040971 -0.00044718  0.0006292 ]\n",
      " ...\n",
      " [-0.19007577  0.03784086 -0.07845412 -0.16281527 -0.10137865]\n",
      " [-0.19895564  0.01922151 -0.08891971 -0.19022512 -0.13125953]\n",
      " [-0.16893736 -0.04673052 -0.0965353  -0.22277085 -0.18922083]]\n",
      "[[0.         0.         0.         0.         0.        ]\n",
      " [0.00110009 0.00081117 0.0007977  0.00194301 0.00185733]\n",
      " [0.         0.00187403 0.         0.         0.0006292 ]\n",
      " ...\n",
      " [0.         0.03784086 0.         0.         0.        ]\n",
      " [0.         0.01922151 0.         0.         0.        ]\n",
      " [0.         0.         0.         0.         0.        ]]\n"
     ]
    }
   ],
   "source": [
    "import nnfs\n",
    "\n",
    "nnfs.init()\n",
    "\n",
    "class Activation_ReLU:\n",
    "    def forward(self, inputs):\n",
    "        self.output = np.maximum(0, inputs)\n",
    "\n",
    "\n",
    "layer1 = Layer_Dense(2, 5)\n",
    "activation1 = Activation_ReLU()\n",
    "layer1.forward(X)\n",
    "print(layer1.output)\n",
    "activation1.forward(layer1.output)\n",
    "print(activation1.output)"
   ]
  },
  {
   "attachments": {},
   "cell_type": "markdown",
   "metadata": {},
   "source": [
    "# Softmax Activation"
   ]
  },
  {
   "attachments": {},
   "cell_type": "markdown",
   "metadata": {},
   "source": [
    "For output neurons, we don't use normal activation values\n",
    "\n",
    "We exponentiate and then normalize (get probability - like percentage)"
   ]
  },
  {
   "cell_type": "code",
   "execution_count": 13,
   "metadata": {},
   "outputs": [
    {
     "name": "stdout",
     "output_type": "stream",
     "text": [
      "[0.8952826639572619, 0.024708306782099374, 0.0800090292606387]\n",
      "0.9999999999999999\n"
     ]
    }
   ],
   "source": [
    "import math\n",
    "\n",
    "layer_outputs = [4.8, 1.21, 2.385]\n",
    "E = math.e\n",
    "\n",
    "exp_values = []\n",
    "for output in layer_outputs:\n",
    "    exp_values.append(E**output)\n",
    "\n",
    "norm_values = []\n",
    "for value in exp_values:\n",
    "    norm_values.append(value / sum(exp_values))\n",
    "\n",
    "print(norm_values)\n",
    "print(sum(norm_values))"
   ]
  },
  {
   "attachments": {},
   "cell_type": "markdown",
   "metadata": {},
   "source": [
    "Using Numpy"
   ]
  },
  {
   "cell_type": "code",
   "execution_count": 14,
   "metadata": {},
   "outputs": [
    {
     "name": "stdout",
     "output_type": "stream",
     "text": [
      "[0.89528266 0.02470831 0.08000903]\n",
      "0.9999999999999999\n"
     ]
    }
   ],
   "source": [
    "exp_values = np.exp(layer_outputs)\n",
    "norm_values = exp_values / np.sum(exp_values)\n",
    "\n",
    "print(norm_values)\n",
    "print(sum(norm_values))"
   ]
  },
  {
   "cell_type": "code",
   "execution_count": 15,
   "metadata": {},
   "outputs": [
    {
     "name": "stdout",
     "output_type": "stream",
     "text": [
      "[[8.95282664e-01 2.47083068e-02 8.00090293e-02]\n",
      " [9.99811129e-01 2.23163963e-05 1.66554348e-04]\n",
      " [5.13097164e-01 3.58333899e-01 1.28568936e-01]]\n",
      "[2.40819096 0.38306452 0.20874452]\n"
     ]
    }
   ],
   "source": [
    "layer_outputs = [\n",
    "    [4.8, 1.21, 2.385],\n",
    "    [8.9, -1.81, 0.2],\n",
    "    [1.41, 1.051, 0.026]\n",
    "]\n",
    "\n",
    "exp_values = np.exp(layer_outputs)\n",
    "norm_values = exp_values / np.sum(exp_values, axis=1, keepdims=True)\n",
    "print(norm_values)\n",
    "print(sum(norm_values))"
   ]
  },
  {
   "cell_type": "code",
   "execution_count": 35,
   "metadata": {},
   "outputs": [
    {
     "name": "stdout",
     "output_type": "stream",
     "text": [
      "[[ 0.0000000e+00  0.0000000e+00  0.0000000e+00]\n",
      " [ 6.7541305e-07 -3.3742191e-07 -4.0220743e-07]\n",
      " [ 1.3356894e-06 -6.7111648e-07 -8.0029457e-07]\n",
      " [ 2.1880355e-06 -1.0415991e-06 -1.2372542e-06]\n",
      " [ 2.9746509e-06 -1.3900799e-06 -1.6488993e-06]]\n",
      "[[0.0000000e+00 0.0000000e+00 0.0000000e+00]\n",
      " [6.7541305e-07 0.0000000e+00 0.0000000e+00]\n",
      " [1.3356894e-06 0.0000000e+00 0.0000000e+00]\n",
      " [2.1880355e-06 0.0000000e+00 0.0000000e+00]\n",
      " [2.9746509e-06 0.0000000e+00 0.0000000e+00]]\n"
     ]
    }
   ],
   "source": [
    "class Activation_Softmax:\n",
    "    def forward(self, inputs):\n",
    "        exp_values = np.exp(inputs - np.max(inputs, axis=1, keepdims=True))\n",
    "        probabilities = exp_values / np.sum(exp_values, axis=1, keepdims=True)\n",
    "        self.output = probabilities\n",
    "\n",
    "X, y = spiral_data(samples=100, classes=3)\n",
    "dense1 = Layer_Dense(2, 3)\n",
    "activation1 = Activation_ReLU()\n",
    "\n",
    "dense2 = Layer_Dense(3, 3)\n",
    "activation2 = Activation_ReLU()\n",
    "\n",
    "dense1.forward(X)\n",
    "activation1.forward(dense1.output)\n",
    "\n",
    "dense2.forward(activation1.output)\n",
    "activation2.forward(dense2.output)\n",
    "\n",
    "print(dense2.output[:5])\n",
    "print(activation2.output[:5])"
   ]
  },
  {
   "attachments": {},
   "cell_type": "markdown",
   "metadata": {},
   "source": [
    "# Loss Function"
   ]
  },
  {
   "attachments": {},
   "cell_type": "markdown",
   "metadata": {},
   "source": [
    "[One hot encoding](https://youtu.be/dEXPMQXoiLc?t=310)\n",
    "\n",
    "L = log(yi, k)"
   ]
  },
  {
   "cell_type": "code",
   "execution_count": 17,
   "metadata": {},
   "outputs": [
    {
     "name": "stdout",
     "output_type": "stream",
     "text": [
      "0.35667494393873245\n",
      "0.35667494393873245\n"
     ]
    }
   ],
   "source": [
    "import math\n",
    "\n",
    "softmax_output = [0.7, 0.1, 0.2]\n",
    "target_output = [1, 0, 0]\n",
    "loss = -(\n",
    "    math.log(softmax_output[0]) * target_output[0] + \n",
    "    math.log(softmax_output[1]) * target_output[1] + \n",
    "    math.log(softmax_output[2]) * target_output[2]\n",
    ")\n",
    "print(loss)\n",
    "print(-math.log(softmax_output[0]))"
   ]
  },
  {
   "cell_type": "code",
   "execution_count": 18,
   "metadata": {},
   "outputs": [
    {
     "name": "stdout",
     "output_type": "stream",
     "text": [
      "[[0.35667494 0.69314718 0.10536052]]\n"
     ]
    }
   ],
   "source": [
    "softmax_outputs = np.array([\n",
    "    [0.7, 0.1, 0.2],\n",
    "    [0.1, 0.5, 0.4],\n",
    "    [0.02, 0.9, 0.08]\n",
    "])\n",
    "class_targets = [0, 1, 1]\n",
    "print(-np.log(softmax_outputs[[0,1,2], [class_targets]]))"
   ]
  },
  {
   "cell_type": "code",
   "execution_count": 30,
   "metadata": {},
   "outputs": [],
   "source": [
    "class Loss:\n",
    "    def calculate(self, output, y):\n",
    "        sample_losses = self.forward(output, y)\n",
    "        data_loss = np.mean(sample_losses)\n",
    "        return data_loss\n",
    "    \n",
    "class Loss_CategoricalCrossEntropy(Loss):\n",
    "    def forward(seld, y_pred, y_true):\n",
    "        samples = len(y_pred)\n",
    "        y_pred_clipped = np.clip(y_pred, 1e-7, 1-1e-7)\n",
    "        if len(y_true.shape) == 1:\n",
    "            correct_confidences = y_pred_clipped[range(samples), y_true]\n",
    "        elif len(y_true.shape) == 2:\n",
    "            correct_confidences = np.sum(y_pred_clipped * y_true, axis=1)\n",
    "        negative_log_likelihoods = -np.log(correct_confidences)\n",
    "        return negative_log_likelihoods"
   ]
  },
  {
   "cell_type": "code",
   "execution_count": 36,
   "metadata": {},
   "outputs": [
    {
     "data": {
      "text/plain": [
       "1.0986104"
      ]
     },
     "execution_count": 36,
     "metadata": {},
     "output_type": "execute_result"
    }
   ],
   "source": [
    "nnfs.init()\n",
    "\n",
    "X, y = spiral_data(samples=100, classes=3)\n",
    "dense1 = Layer_Dense(2, 3)\n",
    "activation1 = Activation_ReLU()\n",
    "\n",
    "dense2 = Layer_Dense(3, 3)\n",
    "activation2 = Activation_Softmax()\n",
    "\n",
    "dense1.forward(X)\n",
    "activation1.forward(dense1.output)\n",
    "\n",
    "dense2.forward(activation1.output)\n",
    "activation2.forward(dense2.output)\n",
    "\n",
    "loss_function = Loss_CategoricalCrossEntropy()\n",
    "loss = loss_function.calculate(activation2.output, y)\n",
    "loss"
   ]
  }
 ],
 "metadata": {
  "kernelspec": {
   "display_name": "Python 3",
   "language": "python",
   "name": "python3"
  },
  "language_info": {
   "codemirror_mode": {
    "name": "ipython",
    "version": 3
   },
   "file_extension": ".py",
   "mimetype": "text/x-python",
   "name": "python",
   "nbconvert_exporter": "python",
   "pygments_lexer": "ipython3",
   "version": "3.11.2"
  },
  "orig_nbformat": 4
 },
 "nbformat": 4,
 "nbformat_minor": 2
}
